{
 "cells": [
  {
   "cell_type": "code",
   "execution_count": 1,
   "metadata": {},
   "outputs": [
    {
     "data": {
      "text/html": [
       "<div>\n",
       "<style scoped>\n",
       "    .dataframe tbody tr th:only-of-type {\n",
       "        vertical-align: middle;\n",
       "    }\n",
       "\n",
       "    .dataframe tbody tr th {\n",
       "        vertical-align: top;\n",
       "    }\n",
       "\n",
       "    .dataframe thead th {\n",
       "        text-align: right;\n",
       "    }\n",
       "</style>\n",
       "<table border=\"1\" class=\"dataframe\">\n",
       "  <thead>\n",
       "    <tr style=\"text-align: right;\">\n",
       "      <th></th>\n",
       "      <th>Area</th>\n",
       "      <th>MajorAxisLength</th>\n",
       "      <th>MinorAxisLength</th>\n",
       "      <th>Eccentricity</th>\n",
       "      <th>ConvexArea</th>\n",
       "      <th>Extent</th>\n",
       "      <th>Perimeter</th>\n",
       "      <th>Class</th>\n",
       "    </tr>\n",
       "  </thead>\n",
       "  <tbody>\n",
       "    <tr>\n",
       "      <th>143</th>\n",
       "      <td>50445</td>\n",
       "      <td>308.358912</td>\n",
       "      <td>208.855245</td>\n",
       "      <td>0.735696</td>\n",
       "      <td>51555</td>\n",
       "      <td>0.723226</td>\n",
       "      <td>851.632</td>\n",
       "      <td>Kecimen</td>\n",
       "    </tr>\n",
       "    <tr>\n",
       "      <th>87</th>\n",
       "      <td>39457</td>\n",
       "      <td>267.556941</td>\n",
       "      <td>188.765166</td>\n",
       "      <td>0.708696</td>\n",
       "      <td>40472</td>\n",
       "      <td>0.697576</td>\n",
       "      <td>755.822</td>\n",
       "      <td>Kecimen</td>\n",
       "    </tr>\n",
       "    <tr>\n",
       "      <th>48</th>\n",
       "      <td>45800</td>\n",
       "      <td>330.008683</td>\n",
       "      <td>181.665865</td>\n",
       "      <td>0.834843</td>\n",
       "      <td>47802</td>\n",
       "      <td>0.732683</td>\n",
       "      <td>870.387</td>\n",
       "      <td>Kecimen</td>\n",
       "    </tr>\n",
       "    <tr>\n",
       "      <th>319</th>\n",
       "      <td>57303</td>\n",
       "      <td>330.024964</td>\n",
       "      <td>221.919786</td>\n",
       "      <td>0.740158</td>\n",
       "      <td>58973</td>\n",
       "      <td>0.716762</td>\n",
       "      <td>919.044</td>\n",
       "      <td>Kecimen</td>\n",
       "    </tr>\n",
       "    <tr>\n",
       "      <th>154</th>\n",
       "      <td>76253</td>\n",
       "      <td>364.225570</td>\n",
       "      <td>269.516792</td>\n",
       "      <td>0.672637</td>\n",
       "      <td>78443</td>\n",
       "      <td>0.724288</td>\n",
       "      <td>1070.053</td>\n",
       "      <td>Kecimen</td>\n",
       "    </tr>\n",
       "  </tbody>\n",
       "</table>\n",
       "</div>"
      ],
      "text/plain": [
       "      Area  MajorAxisLength  MinorAxisLength  Eccentricity  ConvexArea  \\\n",
       "143  50445       308.358912       208.855245      0.735696       51555   \n",
       "87   39457       267.556941       188.765166      0.708696       40472   \n",
       "48   45800       330.008683       181.665865      0.834843       47802   \n",
       "319  57303       330.024964       221.919786      0.740158       58973   \n",
       "154  76253       364.225570       269.516792      0.672637       78443   \n",
       "\n",
       "       Extent  Perimeter    Class  \n",
       "143  0.723226    851.632  Kecimen  \n",
       "87   0.697576    755.822  Kecimen  \n",
       "48   0.732683    870.387  Kecimen  \n",
       "319  0.716762    919.044  Kecimen  \n",
       "154  0.724288   1070.053  Kecimen  "
      ]
     },
     "execution_count": 1,
     "metadata": {},
     "output_type": "execute_result"
    }
   ],
   "source": [
    "import pandas as pd\n",
    "\n",
    "df = pd.read_excel(\"Raisin_Dataset.xlsx\")\n",
    "df.sample(5)"
   ]
  },
  {
   "cell_type": "code",
   "execution_count": 2,
   "metadata": {},
   "outputs": [],
   "source": [
    "X = df[\n",
    "    [\n",
    "        \"Area\",\n",
    "        \"MajorAxisLength\",\n",
    "        \"MinorAxisLength\",\n",
    "        \"Eccentricity\",\n",
    "        \"ConvexArea\",\n",
    "        \"Extent\",\n",
    "        \"Perimeter\",\n",
    "    ]\n",
    "]\n",
    "y = df[\"Class\"]\n",
    "\n",
    "from sklearn.model_selection import train_test_split\n",
    "\n",
    "X_train, X_test, y_train, y_test = train_test_split(X, y, test_size=0.2, random_state=5)"
   ]
  },
  {
   "cell_type": "code",
   "execution_count": 6,
   "metadata": {},
   "outputs": [
    {
     "name": "stdout",
     "output_type": "stream",
     "text": [
      "              precision    recall  f1-score   support\n",
      "\n",
      "       Besni       0.88      0.78      0.83        97\n",
      "     Kecimen       0.78      0.88      0.82        83\n",
      "\n",
      "    accuracy                           0.83       180\n",
      "   macro avg       0.83      0.83      0.83       180\n",
      "weighted avg       0.83      0.83      0.83       180\n",
      "\n"
     ]
    }
   ],
   "source": [
    "from sklearn.svm import SVC\n",
    "from sklearn.metrics import classification_report\n",
    "\n",
    "model = SVC(kernel=\"rbf\")\n",
    "model.fit(X_train, y_train)\n",
    "\n",
    "y_pred = model.predict(X_test)\n",
    "\n",
    "report = classification_report(y_test, y_pred)\n",
    "print(report)"
   ]
  },
  {
   "cell_type": "code",
   "execution_count": 7,
   "metadata": {},
   "outputs": [
    {
     "name": "stdout",
     "output_type": "stream",
     "text": [
      "              precision    recall  f1-score   support\n",
      "\n",
      "       Besni       0.80      0.85      0.82        97\n",
      "     Kecimen       0.81      0.76      0.78        83\n",
      "\n",
      "    accuracy                           0.81       180\n",
      "   macro avg       0.81      0.80      0.80       180\n",
      "weighted avg       0.81      0.81      0.80       180\n",
      "\n"
     ]
    }
   ],
   "source": [
    "from sklearn.tree import DecisionTreeClassifier\n",
    "from sklearn.metrics import classification_report\n",
    "\n",
    "model = DecisionTreeClassifier()\n",
    "model.fit(X_train, y_train)\n",
    "\n",
    "y_pred = model.predict(X_test)\n",
    "\n",
    "report = classification_report(y_test, y_pred)\n",
    "print(report)"
   ]
  },
  {
   "cell_type": "code",
   "execution_count": 8,
   "metadata": {},
   "outputs": [
    {
     "name": "stdout",
     "output_type": "stream",
     "text": [
      "              precision    recall  f1-score   support\n",
      "\n",
      "       Besni       0.89      0.87      0.88        97\n",
      "     Kecimen       0.85      0.88      0.86        83\n",
      "\n",
      "    accuracy                           0.87       180\n",
      "   macro avg       0.87      0.87      0.87       180\n",
      "weighted avg       0.87      0.87      0.87       180\n",
      "\n"
     ]
    }
   ],
   "source": [
    "from sklearn.ensemble import RandomForestClassifier\n",
    "from sklearn.metrics import classification_report\n",
    "\n",
    "model = RandomForestClassifier()\n",
    "model.fit(X_train, y_train)\n",
    "\n",
    "y_pred = model.predict(X_test)\n",
    "\n",
    "report = classification_report(y_test, y_pred)\n",
    "print(report)"
   ]
  },
  {
   "cell_type": "code",
   "execution_count": null,
   "metadata": {},
   "outputs": [],
   "source": []
  }
 ],
 "metadata": {
  "kernelspec": {
   "display_name": "Python 3",
   "language": "python",
   "name": "python3"
  },
  "language_info": {
   "codemirror_mode": {
    "name": "ipython",
    "version": 3
   },
   "file_extension": ".py",
   "mimetype": "text/x-python",
   "name": "python",
   "nbconvert_exporter": "python",
   "pygments_lexer": "ipython3",
   "version": "3.12.5"
  }
 },
 "nbformat": 4,
 "nbformat_minor": 2
}
